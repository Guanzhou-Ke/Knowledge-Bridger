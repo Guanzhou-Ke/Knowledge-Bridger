{
 "cells": [
  {
   "cell_type": "code",
   "execution_count": 7,
   "metadata": {},
   "outputs": [
    {
     "name": "stdout",
     "output_type": "stream",
     "text": [
      "缺失数据的索引: {'type': 'mixed', 'missing_ratio': 0.3, 'missing_indices': [1, 5], 'missing_details': {1: (0, 1), 5: (0, 1)}}\n"
     ]
    }
   ],
   "source": [
    "import json\n",
    "import numpy as np\n",
    "import random\n",
    "\n",
    "def simulate_missing_modality(metadata_path, missing_type, missing_ratio, seed=2025):\n",
    "    \"\"\"\n",
    "    模拟多模态缺失数据\n",
    "    :param data_json: 数据（json格式，包含文本和图像信息）\n",
    "    :param missing_type: 缺失类型 (\"text_only\", \"image_only\", \"mixed\")\n",
    "    :param missing_ratio: 缺失比例 (0-1之间的小数)\n",
    "    :return: 缺失数据的索引列表\n",
    "    \"\"\"\n",
    "    \n",
    "    # 加载数据\n",
    "    data = json.loads(metadata_path)\n",
    "    n_samples = len(data)\n",
    "    missing_count = int(n_samples * missing_ratio)\n",
    "    \n",
    "    missing_config = {\n",
    "        \"type\": missing_type,\n",
    "        \"missing_ratio\": missing_ratio,\n",
    "    }\n",
    "    \n",
    "    # two-element, 1: avaliable, 0: missing.\n",
    "    # 1st: text, 2nd: image.\n",
    "    missing_details = {}\n",
    "\n",
    "    # 确保随机性\n",
    "    random.seed(seed)\n",
    "    np.random.seed(seed)\n",
    "\n",
    "    # 生成缺失索引\n",
    "    if missing_type == \"text\":\n",
    "        # 选择缺失文本的样本索引\n",
    "        missing_indices = random.sample(range(n_samples), missing_count)\n",
    "        missing_config[\"missing_indices\"] = missing_indices\n",
    "        for idx in missing_indices:\n",
    "            missing_details[idx] = (0, 1)  # 将文本置为空，表示缺失\n",
    "    elif missing_type == \"image\":\n",
    "        # 选择缺失图像的样本索引\n",
    "        missing_indices = random.sample(range(n_samples), missing_count)\n",
    "        missing_config[\"missing_indices\"] = missing_indices\n",
    "        for idx in missing_indices:\n",
    "            missing_details[idx] = (1, 0)\n",
    "    elif missing_type == \"mixed\":\n",
    "        # 混合缺失\n",
    "        missing_indices = random.sample(range(n_samples), missing_count)\n",
    "        missing_config[\"missing_indices\"] = missing_indices\n",
    "        for idx in missing_indices:\n",
    "            if random.random() > 0.5:\n",
    "                missing_details[idx] = (0, 1)  # 缺失文本\n",
    "            else:\n",
    "                missing_details[idx] = (1, 0)  # 缺失图像\n",
    "    else:\n",
    "        raise ValueError(\"Invalid missing_type. Choose from 'text_only', 'image_only', or 'mixed'.\")\n",
    "    \n",
    "    missing_config[\"missing_details\"] = missing_details\n",
    "    \n",
    "    return missing_config\n",
    "\n",
    "# 示例用法\n",
    "data_json = json.dumps([\n",
    "    {\"id\": 1, \"text\": \"This is a sample text.\", \"image\": \"image1.jpg\"},\n",
    "    {\"id\": 2, \"text\": \"Another sample text.\", \"image\": \"image2.jpg\"},\n",
    "    {\"id\": 2, \"text\": \"Another sample text.\", \"image\": \"image2.jpg\"},\n",
    "    {\"id\": 2, \"text\": \"Another sample text.\", \"image\": \"image2.jpg\"},\n",
    "    {\"id\": 2, \"text\": \"Another sample text.\", \"image\": \"image2.jpg\"},\n",
    "    {\"id\": 2, \"text\": \"Another sample text.\", \"image\": \"image2.jpg\"},\n",
    "    {\"id\": 2, \"text\": \"Another sample text.\", \"image\": \"image2.jpg\"},\n",
    "    {\"id\": 2, \"text\": \"Another sample text.\", \"image\": \"image2.jpg\"},\n",
    "    # 可以添加更多样本\n",
    "])\n",
    "\n",
    "missing_type = \"mixed\"  # 缺失类型: \"text_only\", \"image_only\", or \"mixed\"\n",
    "missing_ratio = 0.3  # 缺失比例\n",
    "\n",
    "missing_indices = simulate_missing_modality(data_json, missing_type, missing_ratio)\n",
    "\n",
    "print(\"缺失数据的索引:\", missing_indices)\n"
   ]
  },
  {
   "cell_type": "code",
   "execution_count": null,
   "metadata": {},
   "outputs": [],
   "source": []
  }
 ],
 "metadata": {
  "kernelspec": {
   "display_name": "kgz",
   "language": "python",
   "name": "python3"
  },
  "language_info": {
   "codemirror_mode": {
    "name": "ipython",
    "version": 3
   },
   "file_extension": ".py",
   "mimetype": "text/x-python",
   "name": "python",
   "nbconvert_exporter": "python",
   "pygments_lexer": "ipython3",
   "version": "3.11.10"
  }
 },
 "nbformat": 4,
 "nbformat_minor": 2
}
